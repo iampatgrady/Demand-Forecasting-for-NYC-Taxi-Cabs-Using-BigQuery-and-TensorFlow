{
  "nbformat": 4,
  "nbformat_minor": 0,
  "metadata": {
    "colab": {
      "name": "demandforecast.ipynb",
      "version": "0.3.2",
      "provenance": [],
      "toc_visible": true
    },
    "kernelspec": {
      "display_name": "Python 2",
      "language": "python",
      "name": "python2"
    },
    "accelerator": "GPU"
  },
  "cells": [
    {
      "cell_type": "markdown",
      "metadata": {
        "id": "view-in-github",
        "colab_type": "text"
      },
      "source": [
        "[View in Colaboratory](https://colab.research.google.com/github/iampatgrady/Demand-Forecasting-for-NYC-Taxi-Cabs-Using-BigQuery-and-TensorFlow/blob/master/demandforecast.ipynb)"
      ]
    },
    {
      "metadata": {
        "id": "i3ClN-Ks_KBR",
        "colab_type": "text"
      },
      "cell_type": "markdown",
      "source": [
        "port of GCP Codelab Notebook to Colaboratory: https://github.com/GoogleCloudPlatform/training-data-analyst/blob/master/CPB100/lab4a/demandforecast.ipynb\n",
        "# Demand Forecasting for Taxi cabs in NYC using Weather Data\n",
        "\n",
        "\n",
        "In this notebook, we will develop a machine learning model to predict the demand for taxi cabs in New York.\n",
        "\n",
        "To develop the model, we will need to get historical data of taxicab usage. This data exists in BigQuery. Let's start by looking at the schema."
      ]
    },
    {
      "metadata": {
        "id": "32hABXmojxcY",
        "colab_type": "code",
        "colab": {}
      },
      "cell_type": "code",
      "source": [
        "import pandas as pd\n",
        "import numpy as np\n",
        "import shutil\n",
        "import io\n",
        "import matplotlib.pyplot as plt\n",
        "import seaborn as sns"
      ],
      "execution_count": 0,
      "outputs": []
    },
    {
      "metadata": {
        "id": "FWVkk7jUjxca",
        "colab_type": "text"
      },
      "cell_type": "markdown",
      "source": [
        "## Analyzing taxicab demand \n",
        "\n",
        "###BigQuery to Pandas dataframe \n",
        "\n",
        "Use the total number of trips as proxy for taxicab demand"
      ]
    },
    {
      "metadata": {
        "id": "fC3cBK4rPYaP",
        "colab_type": "code",
        "colab": {}
      },
      "cell_type": "code",
      "source": [
        "config = {\n",
        "\t'query': {\n",
        "\t\t'parameterMode': \"NAMED\",\n",
        "\t\t'queryParameters': [{\n",
        "\t\t\t'name': 'YEAR',\n",
        "\t\t\t'parameterType': {\n",
        "\t\t\t\t'type': 'STRING'\n",
        "\t\t\t},\n",
        "\t\t\t'parameterValue': {\n",
        "\t\t\t\t'value': 2015\n",
        "\t\t\t}\n",
        "\t\t}]\n",
        "\t}\n",
        "}"
      ],
      "execution_count": 0,
      "outputs": []
    },
    {
      "metadata": {
        "id": "_0QLB3nCnrjC",
        "colab_type": "code",
        "colab": {
          "base_uri": "https://localhost:8080/",
          "height": 204
        },
        "outputId": "49771ba1-715d-4f18-f0ee-9495dcf48ac1"
      },
      "cell_type": "code",
      "source": [
        "query = \"\"\"\n",
        "WITH trips AS (\n",
        "  SELECT EXTRACT (DAYOFYEAR from pickup_datetime) AS daynumber \n",
        "  FROM `bigquery-public-data.new_york.tlc_yellow_trips_*`\n",
        "  where _TABLE_SUFFIX = @YEAR\n",
        ")\n",
        "SELECT daynumber, COUNT(1) AS numtrips FROM trips\n",
        "GROUP BY daynumber ORDER BY daynumber\n",
        "\"\"\"\n",
        "\n",
        "trips = pd.io.gbq.read_gbq(query,project_id='analyticspros.com:spotted-cinnamon-834',\n",
        "     dialect='standard', verbose=False, configuration = config )\n",
        "\n",
        "trips.sample(5)"
      ],
      "execution_count": 3,
      "outputs": [
        {
          "output_type": "execute_result",
          "data": {
            "text/html": [
              "<div>\n",
              "<style scoped>\n",
              "    .dataframe tbody tr th:only-of-type {\n",
              "        vertical-align: middle;\n",
              "    }\n",
              "\n",
              "    .dataframe tbody tr th {\n",
              "        vertical-align: top;\n",
              "    }\n",
              "\n",
              "    .dataframe thead th {\n",
              "        text-align: right;\n",
              "    }\n",
              "</style>\n",
              "<table border=\"1\" class=\"dataframe\">\n",
              "  <thead>\n",
              "    <tr style=\"text-align: right;\">\n",
              "      <th></th>\n",
              "      <th>daynumber</th>\n",
              "      <th>numtrips</th>\n",
              "    </tr>\n",
              "  </thead>\n",
              "  <tbody>\n",
              "    <tr>\n",
              "      <th>136</th>\n",
              "      <td>137</td>\n",
              "      <td>423198</td>\n",
              "    </tr>\n",
              "    <tr>\n",
              "      <th>352</th>\n",
              "      <td>353</td>\n",
              "      <td>460986</td>\n",
              "    </tr>\n",
              "    <tr>\n",
              "      <th>293</th>\n",
              "      <td>294</td>\n",
              "      <td>389756</td>\n",
              "    </tr>\n",
              "    <tr>\n",
              "      <th>307</th>\n",
              "      <td>308</td>\n",
              "      <td>384089</td>\n",
              "    </tr>\n",
              "    <tr>\n",
              "      <th>0</th>\n",
              "      <td>1</td>\n",
              "      <td>382014</td>\n",
              "    </tr>\n",
              "  </tbody>\n",
              "</table>\n",
              "</div>"
            ],
            "text/plain": [
              "     daynumber  numtrips\n",
              "136        137    423198\n",
              "352        353    460986\n",
              "293        294    389756\n",
              "307        308    384089\n",
              "0            1    382014"
            ]
          },
          "metadata": {
            "tags": []
          },
          "execution_count": 3
        }
      ]
    },
    {
      "metadata": {
        "id": "ekybp7V3jxco",
        "colab_type": "text"
      },
      "cell_type": "markdown",
      "source": [
        "##Weather data\n"
      ]
    },
    {
      "metadata": {
        "id": "_qsWbJFEjxcs",
        "colab_type": "text"
      },
      "cell_type": "markdown",
      "source": [
        "### Variables\n",
        "\n",
        "Minimum, maximum daily temperature (in Fahrenheit), and amount of rain (in inches) for La Guardia airport."
      ]
    },
    {
      "metadata": {
        "id": "-AUWsqWpjxcu",
        "colab_type": "code",
        "colab": {
          "base_uri": "https://localhost:8080/",
          "height": 204
        },
        "outputId": "92dc6c08-3bfd-4691-eaf7-1d436a838d69"
      },
      "cell_type": "code",
      "source": [
        "wxquery = \"\"\"\n",
        "SELECT EXTRACT (DAYOFYEAR FROM CAST(CONCAT(@YEAR,'-',mo,'-',da) AS TIMESTAMP)) AS daynumber,\n",
        "       MIN(EXTRACT (DAYOFWEEK FROM CAST(CONCAT(@YEAR,'-',mo,'-',da) AS TIMESTAMP))) dayofweek,\n",
        "       MIN(min) mintemp, MAX(max) maxtemp, MAX(IF(prcp=99.99,0,prcp)) rain\n",
        "FROM `bigquery-public-data.noaa_gsod.gsod*`\n",
        "WHERE stn='725030' AND _TABLE_SUFFIX = @YEAR\n",
        "GROUP BY 1 ORDER BY daynumber ASC\n",
        "\"\"\"\n",
        "\n",
        "weather =  pd.io.gbq.read_gbq(wxquery,project_id='analyticspros.com:spotted-cinnamon-834',\n",
        "     dialect='standard', verbose=False, configuration = config)\n",
        "\n",
        "weather.sample(5)"
      ],
      "execution_count": 4,
      "outputs": [
        {
          "output_type": "execute_result",
          "data": {
            "text/html": [
              "<div>\n",
              "<style scoped>\n",
              "    .dataframe tbody tr th:only-of-type {\n",
              "        vertical-align: middle;\n",
              "    }\n",
              "\n",
              "    .dataframe tbody tr th {\n",
              "        vertical-align: top;\n",
              "    }\n",
              "\n",
              "    .dataframe thead th {\n",
              "        text-align: right;\n",
              "    }\n",
              "</style>\n",
              "<table border=\"1\" class=\"dataframe\">\n",
              "  <thead>\n",
              "    <tr style=\"text-align: right;\">\n",
              "      <th></th>\n",
              "      <th>daynumber</th>\n",
              "      <th>dayofweek</th>\n",
              "      <th>mintemp</th>\n",
              "      <th>maxtemp</th>\n",
              "      <th>rain</th>\n",
              "    </tr>\n",
              "  </thead>\n",
              "  <tbody>\n",
              "    <tr>\n",
              "      <th>199</th>\n",
              "      <td>200</td>\n",
              "      <td>1</td>\n",
              "      <td>72.0</td>\n",
              "      <td>93.9</td>\n",
              "      <td>0.18</td>\n",
              "    </tr>\n",
              "    <tr>\n",
              "      <th>298</th>\n",
              "      <td>299</td>\n",
              "      <td>2</td>\n",
              "      <td>48.0</td>\n",
              "      <td>68.0</td>\n",
              "      <td>0.02</td>\n",
              "    </tr>\n",
              "    <tr>\n",
              "      <th>114</th>\n",
              "      <td>115</td>\n",
              "      <td>7</td>\n",
              "      <td>39.0</td>\n",
              "      <td>60.1</td>\n",
              "      <td>0.00</td>\n",
              "    </tr>\n",
              "    <tr>\n",
              "      <th>205</th>\n",
              "      <td>206</td>\n",
              "      <td>7</td>\n",
              "      <td>71.1</td>\n",
              "      <td>84.9</td>\n",
              "      <td>0.00</td>\n",
              "    </tr>\n",
              "    <tr>\n",
              "      <th>325</th>\n",
              "      <td>326</td>\n",
              "      <td>1</td>\n",
              "      <td>43.0</td>\n",
              "      <td>55.9</td>\n",
              "      <td>0.00</td>\n",
              "    </tr>\n",
              "  </tbody>\n",
              "</table>\n",
              "</div>"
            ],
            "text/plain": [
              "     daynumber  dayofweek  mintemp  maxtemp  rain\n",
              "199        200          1     72.0     93.9  0.18\n",
              "298        299          2     48.0     68.0  0.02\n",
              "114        115          7     39.0     60.1  0.00\n",
              "205        206          7     71.1     84.9  0.00\n",
              "325        326          1     43.0     55.9  0.00"
            ]
          },
          "metadata": {
            "tags": []
          },
          "execution_count": 4
        }
      ]
    },
    {
      "metadata": {
        "id": "7QBfQi8Rjxc4",
        "colab_type": "text"
      },
      "cell_type": "markdown",
      "source": [
        "### Merge datasets \n",
        "\n",
        "Use Pandas to combine weather and taxi data"
      ]
    },
    {
      "metadata": {
        "id": "KbBxVSwTjxc4",
        "colab_type": "code",
        "colab": {
          "base_uri": "https://localhost:8080/",
          "height": 204
        },
        "outputId": "9c5ac138-7a14-4527-8654-c8836ee37be4"
      },
      "cell_type": "code",
      "source": [
        "dataframe = pd.merge(weather, trips, on='daynumber')\n",
        "dataframe[:5]"
      ],
      "execution_count": 5,
      "outputs": [
        {
          "output_type": "execute_result",
          "data": {
            "text/html": [
              "<div>\n",
              "<style scoped>\n",
              "    .dataframe tbody tr th:only-of-type {\n",
              "        vertical-align: middle;\n",
              "    }\n",
              "\n",
              "    .dataframe tbody tr th {\n",
              "        vertical-align: top;\n",
              "    }\n",
              "\n",
              "    .dataframe thead th {\n",
              "        text-align: right;\n",
              "    }\n",
              "</style>\n",
              "<table border=\"1\" class=\"dataframe\">\n",
              "  <thead>\n",
              "    <tr style=\"text-align: right;\">\n",
              "      <th></th>\n",
              "      <th>daynumber</th>\n",
              "      <th>dayofweek</th>\n",
              "      <th>mintemp</th>\n",
              "      <th>maxtemp</th>\n",
              "      <th>rain</th>\n",
              "      <th>numtrips</th>\n",
              "    </tr>\n",
              "  </thead>\n",
              "  <tbody>\n",
              "    <tr>\n",
              "      <th>0</th>\n",
              "      <td>1</td>\n",
              "      <td>5</td>\n",
              "      <td>27.0</td>\n",
              "      <td>39.0</td>\n",
              "      <td>0.00</td>\n",
              "      <td>382014</td>\n",
              "    </tr>\n",
              "    <tr>\n",
              "      <th>1</th>\n",
              "      <td>2</td>\n",
              "      <td>6</td>\n",
              "      <td>27.0</td>\n",
              "      <td>42.1</td>\n",
              "      <td>0.00</td>\n",
              "      <td>345296</td>\n",
              "    </tr>\n",
              "    <tr>\n",
              "      <th>2</th>\n",
              "      <td>3</td>\n",
              "      <td>7</td>\n",
              "      <td>30.9</td>\n",
              "      <td>42.1</td>\n",
              "      <td>0.00</td>\n",
              "      <td>406769</td>\n",
              "    </tr>\n",
              "    <tr>\n",
              "      <th>3</th>\n",
              "      <td>4</td>\n",
              "      <td>1</td>\n",
              "      <td>30.9</td>\n",
              "      <td>57.0</td>\n",
              "      <td>0.85</td>\n",
              "      <td>328848</td>\n",
              "    </tr>\n",
              "    <tr>\n",
              "      <th>4</th>\n",
              "      <td>5</td>\n",
              "      <td>2</td>\n",
              "      <td>28.9</td>\n",
              "      <td>57.0</td>\n",
              "      <td>0.13</td>\n",
              "      <td>363454</td>\n",
              "    </tr>\n",
              "  </tbody>\n",
              "</table>\n",
              "</div>"
            ],
            "text/plain": [
              "   daynumber  dayofweek  mintemp  maxtemp  rain  numtrips\n",
              "0          1          5     27.0     39.0  0.00    382014\n",
              "1          2          6     27.0     42.1  0.00    345296\n",
              "2          3          7     30.9     42.1  0.00    406769\n",
              "3          4          1     30.9     57.0  0.85    328848\n",
              "4          5          2     28.9     57.0  0.13    363454"
            ]
          },
          "metadata": {
            "tags": []
          },
          "execution_count": 5
        }
      ]
    },
    {
      "metadata": {
        "id": "XBWR2TWMjxc8",
        "colab_type": "text"
      },
      "cell_type": "markdown",
      "source": [
        "### Exploratory analysis\n",
        "\n",
        "Is there a relationship between maximum temperature and the number of trips?"
      ]
    },
    {
      "metadata": {
        "id": "kUc14XdHssEq",
        "colab_type": "code",
        "colab": {
          "base_uri": "https://localhost:8080/",
          "height": 403
        },
        "outputId": "8ae35b64-a9f2-4b62-faea-168ca17a2082"
      },
      "cell_type": "code",
      "source": [
        "x = dataframe.maxtemp\n",
        "y = dataframe.numtrips\n",
        "dataframe.plot(kind=\"scatter\",x=\"maxtemp\",y=\"numtrips\", figsize=[10,6])\n",
        "z = np.polyfit(x, y, 1)\n",
        "p = np.poly1d(z)\n",
        "plt.plot(x,p(x),\"r-\")\n",
        "plt.title(\"Taxi Trips by Maximum Temp.\")\n",
        "plt.show()"
      ],
      "execution_count": 6,
      "outputs": [
        {
          "output_type": "display_data",
          "data": {
            "image/png": "[encoded data removed]",
            "text/plain": [
              "<matplotlib.figure.Figure at 0x7ff2c1088990>"
            ]
          },
          "metadata": {
            "tags": []
          }
        }
      ]
    },
    {
      "metadata": {
        "id": "NAsxNbdljxdC",
        "colab_type": "text"
      },
      "cell_type": "markdown",
      "source": [
        "There appears to be a weak downward trend, but it's also quite noisy.\n",
        "\n",
        "Is there a relationship between the day of the week and the number of trips?"
      ]
    },
    {
      "metadata": {
        "id": "8uzK3hheze23",
        "colab_type": "code",
        "colab": {
          "base_uri": "https://localhost:8080/",
          "height": 403
        },
        "outputId": "7c57c631-46a6-4111-8c8c-4e875812f840"
      },
      "cell_type": "code",
      "source": [
        "fig, ax = plt.subplots(figsize=[10,6])\n",
        "sns.regplot(dataframe.dayofweek,y)\n",
        "plt.title(\"Number of Trips by Day of Week\")\n",
        "plt.show()"
      ],
      "execution_count": 7,
      "outputs": [
        {
          "output_type": "display_data",
          "data": {
            "image/png": "[encoded data removed]",
            "text/plain": [
              "<matplotlib.figure.Figure at 0x7ff2c0237410>"
            ]
          },
          "metadata": {
            "tags": []
          }
        }
      ]
    },
    {
      "metadata": {
        "id": "El4JRr49jxdH",
        "colab_type": "text"
      },
      "cell_type": "markdown",
      "source": [
        "It appears that people use taxis more later in the week. \n",
        "\n",
        "Remove <em>confounding</em> effect of the day of the week:"
      ]
    },
    {
      "metadata": {
        "id": "-W9LFJtCjxdI",
        "colab_type": "code",
        "colab": {}
      },
      "cell_type": "code",
      "source": [
        "df = dataframe[dataframe['dayofweek']== 7] # analyze only Sunday riders"
      ],
      "execution_count": 0,
      "outputs": []
    },
    {
      "metadata": {
        "id": "bGZ9FBcq3jXQ",
        "colab_type": "code",
        "colab": {
          "base_uri": "https://localhost:8080/",
          "height": 403
        },
        "outputId": "855b7260-74e1-4ec7-dfef-9b730643ef7c"
      },
      "cell_type": "code",
      "source": [
        "x = df.maxtemp\n",
        "y = df.numtrips\n",
        "df.plot(kind=\"scatter\",x=\"maxtemp\",y=\"numtrips\",figsize=[10,6])\n",
        "z = np.polyfit(x, y, 1)\n",
        "p = np.poly1d(z)\n",
        "plt.plot(x,p(x),\"r-\")\n",
        "plt.title(\"Taxi Trips on a Sunday\")\n",
        "plt.show()"
      ],
      "execution_count": 9,
      "outputs": [
        {
          "output_type": "display_data",
          "data": {
            "image/png": "[encoded data removed]",
            "text/plain": [
              "<matplotlib.figure.Figure at 0x7ff2c0237610>"
            ]
          },
          "metadata": {
            "tags": []
          }
        }
      ]
    },
    {
      "metadata": {
        "id": "2fxtzYtvjxdN",
        "colab_type": "text"
      },
      "cell_type": "markdown",
      "source": [
        "### Adding 2014 and 2016 data\n",
        "Let's add in 2014 and 2016 data to the Pandas dataframe. "
      ]
    },
    {
      "metadata": {
        "id": "3YubNB-JjxdN",
        "colab_type": "code",
        "colab": {
          "base_uri": "https://localhost:8080/",
          "height": 297
        },
        "outputId": "9eb2b5f4-8196-4817-a129-5de90319b285"
      },
      "cell_type": "code",
      "source": [
        "data2 = dataframe # 2015 data\n",
        "\n",
        "for year in [2014,2016]:\n",
        "  \n",
        "  config[\"query\"][\"queryParameters\"][0][\"parameterValue\"][\"value\"] = year\n",
        "\n",
        "  weather = pd.io.gbq.read_gbq(wxquery,project_id='analyticspros.com:spotted-cinnamon-834',\n",
        "      dialect='standard',  verbose=False, configuration = config)\n",
        "\n",
        "  trips = pd.io.gbq.read_gbq(query,project_id='analyticspros.com:spotted-cinnamon-834',\n",
        "      dialect='standard', verbose=False, configuration = config )\n",
        "\n",
        "  data_for_year = pd.merge(weather, trips, on='daynumber')\n",
        "  data2 = pd.concat([data2, data_for_year])\n",
        "    \n",
        "data2.describe()"
      ],
      "execution_count": 10,
      "outputs": [
        {
          "output_type": "execute_result",
          "data": {
            "text/html": [
              "<div>\n",
              "<style scoped>\n",
              "    .dataframe tbody tr th:only-of-type {\n",
              "        vertical-align: middle;\n",
              "    }\n",
              "\n",
              "    .dataframe tbody tr th {\n",
              "        vertical-align: top;\n",
              "    }\n",
              "\n",
              "    .dataframe thead th {\n",
              "        text-align: right;\n",
              "    }\n",
              "</style>\n",
              "<table border=\"1\" class=\"dataframe\">\n",
              "  <thead>\n",
              "    <tr style=\"text-align: right;\">\n",
              "      <th></th>\n",
              "      <th>daynumber</th>\n",
              "      <th>dayofweek</th>\n",
              "      <th>mintemp</th>\n",
              "      <th>maxtemp</th>\n",
              "      <th>rain</th>\n",
              "      <th>numtrips</th>\n",
              "    </tr>\n",
              "  </thead>\n",
              "  <tbody>\n",
              "    <tr>\n",
              "      <th>count</th>\n",
              "      <td>1096.000000</td>\n",
              "      <td>1096.000000</td>\n",
              "      <td>1096.000000</td>\n",
              "      <td>1096.000000</td>\n",
              "      <td>1096.000000</td>\n",
              "      <td>1096.000000</td>\n",
              "    </tr>\n",
              "    <tr>\n",
              "      <th>mean</th>\n",
              "      <td>183.166971</td>\n",
              "      <td>4.005474</td>\n",
              "      <td>48.195073</td>\n",
              "      <td>66.151825</td>\n",
              "      <td>0.117272</td>\n",
              "      <td>403642.694343</td>\n",
              "    </tr>\n",
              "    <tr>\n",
              "      <th>std</th>\n",
              "      <td>105.510927</td>\n",
              "      <td>2.000449</td>\n",
              "      <td>18.031228</td>\n",
              "      <td>18.484065</td>\n",
              "      <td>0.320836</td>\n",
              "      <td>63767.524397</td>\n",
              "    </tr>\n",
              "    <tr>\n",
              "      <th>min</th>\n",
              "      <td>1.000000</td>\n",
              "      <td>1.000000</td>\n",
              "      <td>1.000000</td>\n",
              "      <td>21.000000</td>\n",
              "      <td>0.000000</td>\n",
              "      <td>78133.000000</td>\n",
              "    </tr>\n",
              "    <tr>\n",
              "      <th>25%</th>\n",
              "      <td>92.000000</td>\n",
              "      <td>2.000000</td>\n",
              "      <td>35.100000</td>\n",
              "      <td>51.950000</td>\n",
              "      <td>0.000000</td>\n",
              "      <td>363809.000000</td>\n",
              "    </tr>\n",
              "    <tr>\n",
              "      <th>50%</th>\n",
              "      <td>183.000000</td>\n",
              "      <td>4.000000</td>\n",
              "      <td>48.900000</td>\n",
              "      <td>68.000000</td>\n",
              "      <td>0.000000</td>\n",
              "      <td>402184.500000</td>\n",
              "    </tr>\n",
              "    <tr>\n",
              "      <th>75%</th>\n",
              "      <td>274.250000</td>\n",
              "      <td>6.000000</td>\n",
              "      <td>64.400000</td>\n",
              "      <td>82.900000</td>\n",
              "      <td>0.050000</td>\n",
              "      <td>447099.000000</td>\n",
              "    </tr>\n",
              "    <tr>\n",
              "      <th>max</th>\n",
              "      <td>366.000000</td>\n",
              "      <td>7.000000</td>\n",
              "      <td>82.000000</td>\n",
              "      <td>99.000000</td>\n",
              "      <td>4.880000</td>\n",
              "      <td>574530.000000</td>\n",
              "    </tr>\n",
              "  </tbody>\n",
              "</table>\n",
              "</div>"
            ],
            "text/plain": [
              "         daynumber    dayofweek      mintemp      maxtemp         rain  \\\n",
              "count  1096.000000  1096.000000  1096.000000  1096.000000  1096.000000   \n",
              "mean    183.166971     4.005474    48.195073    66.151825     0.117272   \n",
              "std     105.510927     2.000449    18.031228    18.484065     0.320836   \n",
              "min       1.000000     1.000000     1.000000    21.000000     0.000000   \n",
              "25%      92.000000     2.000000    35.100000    51.950000     0.000000   \n",
              "50%     183.000000     4.000000    48.900000    68.000000     0.000000   \n",
              "75%     274.250000     6.000000    64.400000    82.900000     0.050000   \n",
              "max     366.000000     7.000000    82.000000    99.000000     4.880000   \n",
              "\n",
              "            numtrips  \n",
              "count    1096.000000  \n",
              "mean   403642.694343  \n",
              "std     63767.524397  \n",
              "min     78133.000000  \n",
              "25%    363809.000000  \n",
              "50%    402184.500000  \n",
              "75%    447099.000000  \n",
              "max    574530.000000  "
            ]
          },
          "metadata": {
            "tags": []
          },
          "execution_count": 10
        }
      ]
    },
    {
      "metadata": {
        "id": "MyOqrkz4jxdU",
        "colab_type": "code",
        "colab": {}
      },
      "cell_type": "code",
      "source": [
        "df = data2[data2['dayofweek']== 7]"
      ],
      "execution_count": 0,
      "outputs": []
    },
    {
      "metadata": {
        "id": "8nlu4je7jxdY",
        "colab_type": "code",
        "colab": {
          "base_uri": "https://localhost:8080/",
          "height": 403
        },
        "outputId": "6a2ddfc5-267f-4beb-ea07-347aaa63c3e1"
      },
      "cell_type": "code",
      "source": [
        "x = df.maxtemp\n",
        "y = df.numtrips\n",
        "df.plot(kind=\"scatter\",x=\"maxtemp\",y=\"numtrips\",figsize=[10,6])\n",
        "z = np.polyfit(x, y, 1)\n",
        "p = np.poly1d(z)\n",
        "plt.plot(x,p(x),\"r-\")\n",
        "plt.title(\"Taxi Trips on a Sunday\")\n",
        "plt.show()"
      ],
      "execution_count": 12,
      "outputs": [
        {
          "output_type": "display_data",
          "data": {
            "image/png": "[encoded data removed]",
            "text/plain": [
              "<matplotlib.figure.Figure at 0x7ff2be16ff50>"
            ]
          },
          "metadata": {
            "tags": []
          }
        }
      ]
    },
    {
      "metadata": {
        "id": "PKCZ_hCKjxdb",
        "colab_type": "text"
      },
      "cell_type": "markdown",
      "source": [
        "## Machine Learning with Tensorflow \n",
        "\n",
        "We'll use 80% of our dataset for training and 20% of the data for testing the model we have trained. "
      ]
    },
    {
      "metadata": {
        "id": "z-gOOTH1jxdf",
        "colab_type": "code",
        "colab": {}
      },
      "cell_type": "code",
      "source": [
        "import tensorflow as tf\n",
        "import logging\n",
        "#keep output clean\n",
        "logging.getLogger('tensorflow').disabled = True\n"
      ],
      "execution_count": 0,
      "outputs": []
    },
    {
      "metadata": {
        "id": "R6uVSdm2xbI6",
        "colab_type": "code",
        "colab": {
          "base_uri": "https://localhost:8080/",
          "height": 34
        },
        "outputId": "3f69b47f-c1fb-413e-a029-66124b6e257f"
      },
      "cell_type": "code",
      "source": [
        "# TODO: Add a Scaler to the data, could improve NN performance\n",
        "\"\"\"from sklearn.preprocessing import StandardScaler\n",
        "scaler = StandardScaler()\n",
        "normal_data = scaler.fit_transform(data2.sample(frac=1, random_state=13))\"\"\""
      ],
      "execution_count": 14,
      "outputs": [
        {
          "output_type": "execute_result",
          "data": {
            "text/plain": [
              "'from sklearn.preprocessing import StandardScaler\\nscaler = StandardScaler()\\nnormal_data = scaler.fit_transform(data2.sample(frac=1, random_state=13))'"
            ]
          },
          "metadata": {
            "tags": []
          },
          "execution_count": 14
        }
      ]
    },
    {
      "metadata": {
        "id": "YQgZgPIFjxdi",
        "colab_type": "code",
        "colab": {}
      },
      "cell_type": "code",
      "source": [
        "shuffled = data2.sample(frac=1, random_state=13)\n",
        "predictors = shuffled.iloc[:,1:5] \n",
        "targets = shuffled.iloc[:,5]"
      ],
      "execution_count": 0,
      "outputs": []
    },
    {
      "metadata": {
        "id": "CLX5_5b6jxdq",
        "colab_type": "text"
      },
      "cell_type": "markdown",
      "source": [
        "### Establish Benchmark \n",
        "\n",
        "Let's create our benchmark based on the 80-20 split and the larger dataset."
      ]
    },
    {
      "metadata": {
        "id": "sXWfX2Hwjxdr",
        "colab_type": "code",
        "colab": {
          "base_uri": "https://localhost:8080/",
          "height": 34
        },
        "outputId": "b2e58250-f579-4ad1-ce32-74f893321b10"
      },
      "cell_type": "code",
      "source": [
        "trainsize = int(len(shuffled) * 0.8)  #80% of total\n",
        "avg = np.mean(shuffled['numtrips'][:trainsize]) \n",
        "rmse = np.sqrt(np.mean((shuffled['numtrips'][trainsize:] - avg)**2))\n",
        "print 'Average={0} has RMSE of {1}'.format(avg, rmse)"
      ],
      "execution_count": 16,
      "outputs": [
        {
          "output_type": "stream",
          "text": [
            "Average=402208.888128 has RMSE of 62814.068818\n"
          ],
          "name": "stdout"
        }
      ]
    },
    {
      "metadata": {
        "id": "_DwGlvW5jxdt",
        "colab_type": "text"
      },
      "cell_type": "markdown",
      "source": [
        "RMSE - root-mean-square error\n",
        "\n",
        "If you guess 400K rides for a day, odds are, you'll be within ~62,000 of the actual number."
      ]
    },
    {
      "metadata": {
        "id": "Bqx8aOzSjxdu",
        "colab_type": "text"
      },
      "cell_type": "markdown",
      "source": [
        "## Linear regression with tf.contrib.learn.LinearRegressor \n",
        "\n",
        "We scale the number of taxicab rides by targets.max() so that the model can keep its predicted values in the [0-1] range."
      ]
    },
    {
      "metadata": {
        "id": "BxDmk34Sjxdu",
        "colab_type": "code",
        "colab": {
          "base_uri": "https://localhost:8080/",
          "height": 51
        },
        "outputId": "ff53a997-422d-4625-e026-9880ceddcbab"
      },
      "cell_type": "code",
      "source": [
        "SCALE_NUM_TRIPS = float(targets.max())\n",
        "trainsize = int(len(shuffled) * 0.8)\n",
        "testsize = len(shuffled) - trainsize\n",
        "npredictors = len(predictors.columns)\n",
        "noutputs = 1\n",
        "\n",
        "shutil.rmtree('./trained_model_linear', ignore_errors=True) # so that we don't load weights from previous runs\n",
        "estimator = tf.contrib.learn.LinearRegressor(model_dir='./trained_model_linear',\n",
        "                                             feature_columns=tf.contrib.learn.infer_real_valued_columns_from_input(predictors.values))\n",
        "\n",
        "print \"starting to train ... this will take a while ...\"\n",
        "def input_fn(features, targets):\n",
        "    return tf.constant(features.values), tf.constant(targets.values.reshape(len(targets), noutputs)/SCALE_NUM_TRIPS)\n",
        "estimator.fit(input_fn=lambda: input_fn(predictors[:trainsize], targets[:trainsize]), steps=10000)\n",
        "\n",
        "pred = np.multiply(list(estimator.predict(predictors[trainsize:].values)), SCALE_NUM_TRIPS )\n",
        "rmse = np.sqrt(np.mean(np.power((targets[trainsize:] - pred), 2)))\n",
        "print 'LinearRegression has RMSE of {0}'.format(rmse)\n"
      ],
      "execution_count": 17,
      "outputs": [
        {
          "output_type": "stream",
          "text": [
            "starting to train ... this will take a while ...\n",
            "LinearRegression has RMSE of 56191.5992856\n"
          ],
          "name": "stdout"
        }
      ]
    },
    {
      "metadata": {
        "id": "uY1Q5rqKjxd0",
        "colab_type": "text"
      },
      "cell_type": "markdown",
      "source": [
        "The RMSE here (56K) is lower than the benchmark (62K) indicates that we are doing about 10% better with the machine learning model than we would be if we were to just use the historical average (our benchmark)."
      ]
    },
    {
      "metadata": {
        "id": "qWFJQdOHjxd0",
        "colab_type": "text"
      },
      "cell_type": "markdown",
      "source": [
        "## Neural network with tf.contrib.learn.DNNRegressor \n",
        "\n",
        "Let's make a more complex model with two hidden nodes."
      ]
    },
    {
      "metadata": {
        "id": "Vod0z1s_jxd2",
        "colab_type": "code",
        "colab": {
          "base_uri": "https://localhost:8080/",
          "height": 51
        },
        "outputId": "f98981c9-6edb-4202-b2bc-0eeb558f21d8"
      },
      "cell_type": "code",
      "source": [
        "SCALE_NUM_TRIPS = float(targets.max())\n",
        "trainsize = int(len(shuffled) * 0.8)\n",
        "testsize = len(shuffled) - trainsize\n",
        "npredictors = len(predictors.columns)\n",
        "noutputs = 1\n",
        "layers = [5]\n",
        "\n",
        "shutil.rmtree('./trained_model', ignore_errors=True) # so that we don't load weights from previous runs\n",
        "estimator = tf.contrib.learn.DNNRegressor(model_dir='./trained_model',\n",
        "                                          hidden_units=layers,\n",
        "                                          feature_columns=tf.contrib.learn.infer_real_valued_columns_from_input(predictors.values))\n",
        "\n",
        "print \"starting to train ... this will take a while ...\"\n",
        "def input_fn(features, targets):\n",
        "    return tf.constant(features.values), tf.constant(targets.values.reshape(len(targets), noutputs)/SCALE_NUM_TRIPS)\n",
        "estimator.fit(input_fn=lambda: input_fn(predictors[:trainsize], targets[:trainsize]), steps=30000)\n",
        "\n",
        "pred = np.multiply(list(estimator.predict(predictors[trainsize:].values)), SCALE_NUM_TRIPS )\n",
        "rmse = np.sqrt(np.mean((targets[trainsize:].values - pred)**2))\n",
        "print 'Neural Network Regression has RMSE of {0}'.format(rmse)"
      ],
      "execution_count": 18,
      "outputs": [
        {
          "output_type": "stream",
          "text": [
            "starting to train ... this will take a while ...\n",
            "Neural Network Regression has RMSE of 56618.066338\n"
          ],
          "name": "stdout"
        }
      ]
    },
    {
      "metadata": {
        "id": "H1Y8tuArjxd9",
        "colab_type": "text"
      },
      "cell_type": "markdown",
      "source": [
        "Using a neural network results in similar performance to the linear model in this example"
      ]
    },
    {
      "metadata": {
        "id": "qx6uFG9TjxeI",
        "colab_type": "text"
      },
      "cell_type": "markdown",
      "source": [
        "## Running a trained model \n",
        "\n",
        "So, we have trained a model, and saved it to a file. Let's use this model to predict taxicab demand given the expected weather for three days.\n",
        "\n",
        "Here we make a Dataframe out of those inputs, load up the saved model and use it to predict the taxicab demand."
      ]
    },
    {
      "metadata": {
        "id": "QBoQh5CtAT_v",
        "colab_type": "code",
        "colab": {}
      },
      "cell_type": "code",
      "source": [
        "input = pd.DataFrame.from_dict(data = \n",
        "                               {'dayofweek' : [4, 5, 6],\n",
        "                                'mintemp' : [60, 60, 60],\n",
        "                                'maxtemp' : [70, 70, 70],\n",
        "                                'rain' : [0, 0, 0]})"
      ],
      "execution_count": 0,
      "outputs": []
    },
    {
      "metadata": {
        "id": "OydiXgu6jxeM",
        "colab_type": "code",
        "colab": {
          "base_uri": "https://localhost:8080/",
          "height": 51
        },
        "outputId": "1725bf95-0b5b-405e-a11c-acef02ff4258"
      },
      "cell_type": "code",
      "source": [
        "lr_estimator = tf.contrib.learn.LinearRegressor(model_dir='./trained_model_linear',\n",
        "                                          feature_columns=tf.contrib.learn.infer_real_valued_columns_from_input(input.values))\n",
        "\n",
        "\n",
        "nn_estimator = tf.contrib.learn.DNNRegressor(model_dir='./trained_model',\n",
        "                                          hidden_units=layers,                             \n",
        "                                          feature_columns=tf.contrib.learn.infer_real_valued_columns_from_input(input.values))\n",
        "\n",
        "lr_pred = np.multiply(list(lr_estimator.predict(input.values)), SCALE_NUM_TRIPS )\n",
        "\n",
        "nn_pred = np.multiply(list(nn_estimator.predict(input.values)), SCALE_NUM_TRIPS )\n",
        "print \"Linear Regression: {}\\nNeural Network: {}\".format(lr_pred,nn_pred)"
      ],
      "execution_count": 20,
      "outputs": [
        {
          "output_type": "stream",
          "text": [
            "Linear Regression: [351743.97 363407.66 375071.38]\n",
            "Neural Network: [-2706733.8 -2716456.8 -2726181.5]\n"
          ],
          "name": "stdout"
        }
      ]
    },
    {
      "metadata": {
        "id": "hw5d4a-VAs5m",
        "colab_type": "text"
      },
      "cell_type": "markdown",
      "source": [
        "`Copyright 2017 Google Inc. Licensed under the Apache License, Version 2.0 (the \"License\"); you may not use this file except in compliance with the License. You may obtain a copy of the License at http://www.apache.org/licenses/LICENSE-2.0 Unless required by applicable law or agreed to in writing, software distributed under the License is distributed on an \"AS IS\" BASIS, WITHOUT WARRANTIES OR CONDITIONS OF ANY KIND, either express or implied. See the License for the specific language governing permissions and limitations under the License`"
      ]
    }
  ]
}